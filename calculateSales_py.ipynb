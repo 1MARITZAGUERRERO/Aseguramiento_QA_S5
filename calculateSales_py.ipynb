{
  "nbformat": 4,
  "nbformat_minor": 0,
  "metadata": {
    "colab": {
      "provenance": [],
      "gpuType": "T4"
    },
    "kernelspec": {
      "name": "python3",
      "display_name": "Python 3"
    },
    "language_info": {
      "name": "python"
    },
    "accelerator": "GPU"
  },
  "cells": [
    {
      "cell_type": "code",
      "source": [
        "\"\"\"\n",
        "Calcula el costo total de ventas tomando como base el cat\\u00e1logo de precios.\n",
        "\n",
        "Este programa toma dos archivos JSON como entrada:\n",
        "  1. priceCatalogue.json - Contiene información de los precios de productos.\n",
        "  2. salesRecord.json - Contiene un registro de las ventas realizadas.\n",
        "\n",
        "El resultado se muestra en pantalla y se guarda en SalesResults.txt.\n",
        "\"\"\""
      ],
      "metadata": {
        "colab": {
          "base_uri": "https://localhost:8080/",
          "height": 69
        },
        "id": "sHWbHtGCsN8O",
        "outputId": "1f0b087d-ec64-4782-f6ea-a1bd5848592c"
      },
      "execution_count": 9,
      "outputs": [
        {
          "output_type": "execute_result",
          "data": {
            "text/plain": [
              "'\\nCalcula el costo total de ventas tomando como base el catálogo de precios.\\n\\nEste programa toma dos archivos JSON como entrada:\\n  1. priceCatalogue.json - Contiene información de los precios de productos.\\n  2. salesRecord.json - Contiene un registro de las ventas realizadas.\\n\\nEl resultado se muestra en pantalla y se guarda en SalesResults.txt.\\n'"
            ],
            "application/vnd.google.colaboratory.intrinsic+json": {
              "type": "string"
            }
          },
          "metadata": {},
          "execution_count": 9
        }
      ]
    },
    {
      "cell_type": "code",
      "source": [
        "\n",
        "import json\n",
        "import sys\n",
        "import time\n",
        "import os\n"
      ],
      "metadata": {
        "id": "KejdvIwadVjD"
      },
      "execution_count": null,
      "outputs": []
    },
    {
      "cell_type": "code",
      "source": [
        "from google.colab import drive\n",
        "drive.mount('/content/drive', force_remount=True)"
      ],
      "metadata": {
        "colab": {
          "base_uri": "https://localhost:8080/"
        },
        "id": "n_VY05iMnzkB",
        "outputId": "e3db0a2c-4d0a-4b40-d156-69b0f32d06f7"
      },
      "execution_count": null,
      "outputs": [
        {
          "output_type": "stream",
          "name": "stdout",
          "text": [
            "Mounted at /content/drive\n"
          ]
        }
      ]
    },
    {
      "cell_type": "code",
      "source": [
        "# Definir constantes para las rutas de archivos\n",
        "PRICE_FILE = (\n",
        "    \"/content/drive/MyDrive/Calidad_software/Semana5/priceCatalogue.json\"\n",
        ")\n",
        "SALES_FILE = (\n",
        "    \"/content/drive/MyDrive/Calidad_software/Semana5/salesRecord.json\"\n",
        ")\n",
        "RESULT_FILE = (\n",
        "    \"/content/drive/MyDrive/Calidad_software/Semana5/SalesResults.txt\"\n",
        ")\n"
      ],
      "metadata": {
        "id": "DY-AkWn0nI8X"
      },
      "execution_count": null,
      "outputs": []
    },
    {
      "cell_type": "code",
      "source": [
        "def load_json(file_path):\n",
        "    \"\"\"Carga un archivo JSON y maneja errores.\"\"\"\n",
        "    try:\n",
        "        with open(file_path, \"r\", encoding=\"utf-8\") as file:\n",
        "            return json.load(file)\n",
        "    except FileNotFoundError:\n",
        "        print(f\"Error: No se encontr\\u00f3 el archivo {file_path}.\")\n",
        "    except json.JSONDecodeError:\n",
        "        print(f\"Error: {file_path} no formato JSON v\\u00e1lido.\")\n",
        "    return None\n",
        "\n"
      ],
      "metadata": {
        "id": "pW4tROEfwPHc"
      },
      "execution_count": null,
      "outputs": []
    },
    {
      "cell_type": "code",
      "source": [
        "\n",
        "def calculate_total_sales(price_catalogue, sales_record):\n",
        "    \"\"\"Calcula costo total de ventas basado en el cat\\u00e1logo precios.\"\"\"\n",
        "    total_sales = 0.0\n",
        "    detailed_sales = []\n",
        "    errors = []\n",
        "\n",
        "    for sale in sales_record:\n",
        "        product_id = sale.get(\"product_id\")\n",
        "        quantity = sale.get(\"quantity\")\n",
        "\n",
        "        if product_id not in price_catalogue:\n",
        "            errors.append(\n",
        "                f\"Producto no encontrado en cat\\u00e1logo: {product_id}\"\n",
        "            )\n",
        "            continue\n",
        "\n",
        "        if not isinstance(quantity, (int, float)) or quantity <= 0:\n",
        "            errors.append(\n",
        "                f\"Cantidad inv\\u00e1lida producto {product_id}: {quantity}\"\n",
        "            )\n",
        "            continue\n",
        "\n",
        "        price = price_catalogue[product_id]\n",
        "        total_cost = price * quantity\n",
        "        total_sales += total_cost\n",
        "        detailed_sales.append(\n",
        "            f\"Producto: {product_id}, Cantidad: {quantity}, \"\n",
        "            f\"Precio unitario: ${price:.2f}, Costo total: ${total_cost:.2f}\"\n",
        "        )\n",
        "\n",
        "    return total_sales, detailed_sales, errors\n",
        "\n"
      ],
      "metadata": {
        "id": "9CG7lynywYeA"
      },
      "execution_count": null,
      "outputs": []
    },
    {
      "cell_type": "code",
      "execution_count": null,
      "metadata": {
        "id": "5jYGM-0JdT2N",
        "colab": {
          "base_uri": "https://localhost:8080/"
        },
        "outputId": "775ad077-a5aa-4fef-eec9-0d2c61b0ae46"
      },
      "outputs": [
        {
          "output_type": "stream",
          "name": "stdout",
          "text": [
            "Costo total de ventas: $664.40\n",
            "\n",
            "Detalles de ventas:\n",
            "Producto: P001, Cantidad: 2, Precio unitario: $10.50, Costo total: $21.00\n",
            "Producto: P002, Cantidad: 3, Precio unitario: $20.00, Costo total: $60.00\n",
            "Producto: P005, Cantidad: 8, Precio unitario: $11.80, Costo total: $94.40\n",
            "Producto: P012, Cantidad: 15, Precio unitario: $30.50, Costo total: $457.50\n",
            "Producto: P003, Cantidad: 3, Precio unitario: $3.50, Costo total: $10.50\n",
            "Producto: P008, Cantidad: 4, Precio unitario: $2.75, Costo total: $11.00\n",
            "Producto: P010, Cantidad: 1, Precio unitario: $10.00, Costo total: $10.00\n",
            "\n",
            "Tiempo de ejecución: 1.1309 segundos\n",
            "\n",
            "Errores encontrados:\n",
            "Producto no encontrado en catálogo: P004\n",
            "Cantidad inválida producto P005: -5\n",
            "Producto no encontrado en catálogo: P007\n",
            "Cantidad inválida producto P010: -2\n",
            "Producto no encontrado en catálogo: P015\n",
            "\n"
          ]
        }
      ],
      "source": [
        "def main():\n",
        "    \"\"\"Funci\\u00f3n principal del programa.\"\"\"\n",
        "    start_time = time.time()\n",
        "\n",
        "    price_data = load_json(PRICE_FILE)\n",
        "    sales_data = load_json(SALES_FILE)\n",
        "\n",
        "    if price_data is None or sales_data is None:\n",
        "        sys.exit(1)\n",
        "\n",
        "    total_sales, detailed_sales, errors = calculate_total_sales(\n",
        "        price_data, sales_data\n",
        "    )\n",
        "    elapsed_time = time.time() - start_time\n",
        "\n",
        "    result_text = (\n",
        "        f\"Costo total de ventas: ${total_sales:.2f}\\n\\n\"\n",
        "        \"Detalles de ventas:\\n\" + \"\\n\".join(detailed_sales) +\n",
        "        f\"\\n\\nTiempo de ejecuci\\u00f3n: {elapsed_time:.4f} segundos\\n\"\n",
        "    )\n",
        "\n",
        "    if errors:\n",
        "        result_text += \"\\nErrores encontrados:\\n\" + \"\\n\".join(errors) + \"\\n\"\n",
        "\n",
        "    print(result_text)\n",
        "\n",
        "    with open(RESULT_FILE, \"w\", encoding=\"utf-8\") as result_file:\n",
        "        result_file.write(result_text)\n",
        "\n",
        "\n",
        "if __name__ == \"__main__\":\n",
        "    main()\n"
      ]
    }
  ]
}