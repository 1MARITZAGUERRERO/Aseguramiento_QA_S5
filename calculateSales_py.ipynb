{
  "nbformat": 4,
  "nbformat_minor": 0,
  "metadata": {
    "colab": {
      "provenance": [],
      "gpuType": "T4"
    },
    "kernelspec": {
      "name": "python3",
      "display_name": "Python 3"
    },
    "language_info": {
      "name": "python"
    },
    "accelerator": "GPU"
  },
  "cells": [
    {
      "cell_type": "code",
      "source": [
        "\"\"\"\n",
        "Calcula el costo total de ventas tomando como base el cat\\u00e1logo de precios.\n",
        "\n",
        "Este programa toma dos archivos JSON como entrada:\n",
        "  1. priceCatalogue.json - Contiene información de los precios de productos.\n",
        "  2. salesRecord.json - Contiene un registro de las ventas realizadas.\n",
        "\n",
        "El resultado se muestra en pantalla y se guarda en SalesResults.txt.\n",
        "\"\"\""
      ],
      "metadata": {
        "colab": {
          "base_uri": "https://localhost:8080/",
          "height": 69
        },
        "id": "sHWbHtGCsN8O",
        "outputId": "92eb77ee-afd2-44c5-e0bb-2e405b6d8ee7"
      },
      "execution_count": 9,
      "outputs": [
        {
          "output_type": "execute_result",
          "data": {
            "text/plain": [
              "'\\nCalcula el costo total de ventas tomando como base el catálogo de precios.\\n\\nEste programa toma dos archivos JSON como entrada:\\n  1. priceCatalogue.json - Contiene información de los precios de productos.\\n  2. salesRecord.json - Contiene un registro de las ventas realizadas.\\n\\nEl resultado se muestra en pantalla y se guarda en SalesResults.txt.\\n'"
            ],
            "application/vnd.google.colaboratory.intrinsic+json": {
              "type": "string"
            }
          },
          "metadata": {},
          "execution_count": 9
        }
      ]
    },
    {
      "cell_type": "code",
      "source": [
        "\n",
        "import json\n",
        "import sys\n",
        "import time\n",
        "import glob\n"
      ],
      "metadata": {
        "id": "KejdvIwadVjD"
      },
      "execution_count": 10,
      "outputs": []
    },
    {
      "cell_type": "code",
      "source": [
        "from google.colab import drive\n",
        "drive.mount('/content/drive', force_remount=True)"
      ],
      "metadata": {
        "colab": {
          "base_uri": "https://localhost:8080/"
        },
        "id": "n_VY05iMnzkB",
        "outputId": "0a63147b-575e-473b-b42a-d3b682e9ecb2"
      },
      "execution_count": 11,
      "outputs": [
        {
          "output_type": "stream",
          "name": "stdout",
          "text": [
            "Mounted at /content/drive\n"
          ]
        }
      ]
    },
    {
      "cell_type": "code",
      "source": [
        "# Definir constantes para las rutas de archivos\n",
        "PRODUCTS_FILE = (\n",
        "    \"/content/drive/MyDrive/Calidad_software/Semana5/TC1.ProductList.json\"\n",
        ")\n",
        "SALES_FILES_PATTERN = (\n",
        "    \"/content/drive/MyDrive/Calidad_software/Semana5/TC*.Sales.json\"\n",
        ")\n",
        "RESULT_FILE = (\n",
        "    \"/content/drive/MyDrive/Calidad_software/Semana5/SalesResults.txt\"\n",
        ")\n",
        "\n"
      ],
      "metadata": {
        "id": "5haZZOBQrkEq"
      },
      "execution_count": 13,
      "outputs": []
    },
    {
      "cell_type": "code",
      "source": [
        "def load_json(file_path):\n",
        "    \"\"\"\n",
        "    Carga un archivo JSON y maneja errores.\n",
        "    \"\"\"\n",
        "    try:\n",
        "        with open(file_path, \"r\", encoding=\"utf-8\") as file:\n",
        "            return json.load(file)\n",
        "    except FileNotFoundError:\n",
        "        print(f\"Error: No se encontró el archivo {file_path}.\")\n",
        "    except json.JSONDecodeError:\n",
        "        print(f\"Error: {file_path} no tiene un formato JSON válido.\")\n",
        "    return None\n",
        "\n",
        ""
      ],
      "metadata": {
        "id": "DOdb2YU0ryiY"
      },
      "execution_count": 14,
      "outputs": []
    },
    {
      "cell_type": "code",
      "source": [
        "def build_price_catalogue(product_list):\n",
        "    \"\"\"\n",
        "    Crea un diccionario de precios basado en el título\n",
        "    del producto.\n",
        "    \"\"\"\n",
        "    return {product[\"title\"]: product[\"price\"] for\n",
        "            product in product_list}\n",
        "\n"
      ],
      "metadata": {
        "id": "2OjMZBrtr_3A"
      },
      "execution_count": 15,
      "outputs": []
    },
    {
      "cell_type": "code",
      "source": [
        "def calculate_total_sales(price_catalogue, sales_records):\n",
        "    \"\"\"\n",
        "    Calcula el costo total de ventas basado en el catálogo de precios.\n",
        "    \"\"\"\n",
        "    total_sales = 0.0\n",
        "    detailed_sales = []\n",
        "    errors = []\n",
        "\n",
        "    for sale in sales_records:\n",
        "        product_name = sale.get(\"Product\")\n",
        "        quantity = sale.get(\"Quantity\")\n",
        "\n",
        "        if product_name not in price_catalogue:\n",
        "            errors.append(\n",
        "                f\"Producto no encontrado en catálogo: {product_name}\"\n",
        "            )\n",
        "            continue\n",
        "\n",
        "        if not isinstance(quantity, (int, float)) or quantity <= 0:\n",
        "            errors.append(\n",
        "                f\"Cantidad inválida para producto {product_name}: {quantity}\"\n",
        "            )\n",
        "            continue\n",
        "\n",
        "        price = price_catalogue[product_name]\n",
        "        total_cost = price * quantity\n",
        "        total_sales += total_cost\n",
        "        detailed_sales.append(\n",
        "            f\"Producto: {product_name}, Cantidad: {quantity}, \"\n",
        "            f\"Precio unitario: ${price:.2f}, Costo total: ${total_cost:.2f}\"\n",
        "        )\n",
        "    return total_sales, detailed_sales, errors\n",
        "\n"
      ],
      "metadata": {
        "id": "wgBxAItasMoD"
      },
      "execution_count": 17,
      "outputs": []
    },
    {
      "cell_type": "code",
      "source": [
        "def main():\n",
        "    \"\"\"Función principal del programa.\"\"\"\n",
        "    start_time = time.time()\n",
        "\n",
        "    # Cargar lista de productos y construir catálogo de precios\n",
        "    product_data = load_json(PRODUCTS_FILE)\n",
        "    if product_data is None:\n",
        "        sys.exit(1)\n",
        "    price_catalogue = build_price_catalogue(product_data)\n",
        "\n",
        "    # Cargar todas las ventas de los archivos TCx.Sales.json\n",
        "    sales_data = []\n",
        "    for sales_file in glob.glob(SALES_FILES_PATTERN):\n",
        "        sales = load_json(sales_file)\n",
        "        if sales:\n",
        "            sales_data.extend(sales)\n",
        "\n",
        "    if not sales_data:\n",
        "        print(\"Error: No se encontraron datos de ventas válidos.\")\n",
        "        sys.exit(1)\n",
        "\n",
        "    # Calcular ventas totales\n",
        "    total_sales, detailed_sales, errors = calculate_total_sales(\n",
        "        price_catalogue, sales_data\n",
        "    )\n",
        "    elapsed_time = time.time() - start_time\n",
        "\n",
        "    # Generar informe\n",
        "    result_text = (\n",
        "        f\"Costo total de ventas: ${total_sales:.2f}\\n\\n\"\n",
        "        \"Detalles de ventas:\\n\" + \"\\n\".join(detailed_sales) +\n",
        "        f\"\\n\\nTiempo de ejecución: {elapsed_time:.4f} segundos\\n\"\n",
        "    )\n",
        "\n",
        "    if errors:\n",
        "        result_text += \"\\nErrores encontrados:\\n\" + \"\\n\".join(errors) + \"\\n\"\n",
        "\n",
        "    print(result_text)\n",
        "    with open(RESULT_FILE, \"w\", encoding=\"utf-8\") as result_file:\n",
        "        result_file.write(result_text)\n",
        "\n",
        "\n",
        "if __name__ == \"__main__\":\n",
        "    main()\n",
        "\n"
      ],
      "metadata": {
        "colab": {
          "base_uri": "https://localhost:8080/"
        },
        "id": "J7uJ__wvsxvf",
        "outputId": "e729ddc9-56ab-42e7-d14c-97b78b0c790c"
      },
      "execution_count": 18,
      "outputs": [
        {
          "output_type": "stream",
          "name": "stdout",
          "text": [
            "Costo total de ventas: $340105.44\n",
            "\n",
            "Detalles de ventas:\n",
            "Producto: Rustic breakfast, Cantidad: 1, Precio unitario: $21.32, Costo total: $21.32\n",
            "Producto: Sandwich with salad, Cantidad: 2, Precio unitario: $22.48, Costo total: $44.96\n",
            "Producto: Raw legums, Cantidad: 1, Precio unitario: $17.11, Costo total: $17.11\n",
            "Producto: Fresh stawberry, Cantidad: 1, Precio unitario: $28.59, Costo total: $28.59\n",
            "Producto: Pears juice, Cantidad: 2, Precio unitario: $19.49, Costo total: $38.98\n",
            "Producto: Green smoothie, Cantidad: 3, Precio unitario: $17.68, Costo total: $53.04\n",
            "Producto: Cuban sandwiche, Cantidad: 2, Precio unitario: $18.50, Costo total: $37.00\n",
            "Producto: Hazelnut in black ceramic bowl, Cantidad: 2, Precio unitario: $27.35, Costo total: $54.70\n",
            "Producto: Tomatoes, Cantidad: 1, Precio unitario: $26.03, Costo total: $26.03\n",
            "Producto: Plums, Cantidad: 1, Precio unitario: $19.18, Costo total: $19.18\n",
            "Producto: Fresh blueberries, Cantidad: 2, Precio unitario: $21.01, Costo total: $42.02\n",
            "Producto: Green smoothie, Cantidad: 2, Precio unitario: $17.68, Costo total: $35.36\n",
            "Producto: Corn, Cantidad: 3, Precio unitario: $13.55, Costo total: $40.65\n",
            "Producto: French fries, Cantidad: 1, Precio unitario: $18.32, Costo total: $18.32\n",
            "Producto: Ground beef meat burger, Cantidad: 1, Precio unitario: $11.73, Costo total: $11.73\n",
            "Producto: Hazelnut in black ceramic bowl, Cantidad: 2, Precio unitario: $27.35, Costo total: $54.70\n",
            "Producto: Cherry, Cantidad: 2, Precio unitario: $14.35, Costo total: $28.70\n",
            "Producto: Homemade bread, Cantidad: 1, Precio unitario: $17.48, Costo total: $17.48\n",
            "Producto: Smoothie with chia seeds, Cantidad: 1, Precio unitario: $25.26, Costo total: $25.26\n",
            "Producto: Corn, Cantidad: 1, Precio unitario: $13.55, Costo total: $13.55\n",
            "Producto: Peaches on branch, Cantidad: 2, Precio unitario: $25.62, Costo total: $51.24\n",
            "Producto: Pesto with basil, Cantidad: 2, Precio unitario: $18.19, Costo total: $36.38\n",
            "Producto: Plums, Cantidad: 1, Precio unitario: $19.18, Costo total: $19.18\n",
            "Producto: Fresh blueberries, Cantidad: 2, Precio unitario: $21.01, Costo total: $42.02\n",
            "Producto: Green smoothie, Cantidad: 4, Precio unitario: $17.68, Costo total: $70.72\n",
            "Producto: Corn, Cantidad: 1, Precio unitario: $13.55, Costo total: $13.55\n",
            "Producto: French fries, Cantidad: 2, Precio unitario: $18.32, Costo total: $36.64\n",
            "Producto: Ground beef meat burger, Cantidad: 3, Precio unitario: $11.73, Costo total: $35.19\n",
            "Producto: Hazelnut in black ceramic bowl, Cantidad: 1, Precio unitario: $27.35, Costo total: $27.35\n",
            "Producto: Cherry, Cantidad: 2, Precio unitario: $14.35, Costo total: $28.70\n",
            "Producto: Homemade bread, Cantidad: 5, Precio unitario: $17.48, Costo total: $87.40\n",
            "Producto: Smoothie with chia seeds, Cantidad: 2, Precio unitario: $25.26, Costo total: $50.52\n",
            "Producto: Corn, Cantidad: 10, Precio unitario: $13.55, Costo total: $135.50\n",
            "Producto: Rustic breakfast, Cantidad: 2, Precio unitario: $21.32, Costo total: $42.64\n",
            "Producto: Sandwich with salad, Cantidad: 3, Precio unitario: $22.48, Costo total: $67.44\n",
            "Producto: Raw legums, Cantidad: 20, Precio unitario: $17.11, Costo total: $342.20\n",
            "Producto: Fresh stawberry, Cantidad: 4, Precio unitario: $28.59, Costo total: $114.36\n",
            "Producto: Pears juice, Cantidad: 1, Precio unitario: $19.49, Costo total: $19.49\n",
            "Producto: Green smoothie, Cantidad: 8, Precio unitario: $17.68, Costo total: $141.44\n",
            "Producto: Cuban sandwiche, Cantidad: 9, Precio unitario: $18.50, Costo total: $166.50\n",
            "Producto: Hazelnut in black ceramic bowl, Cantidad: 2, Precio unitario: $27.35, Costo total: $54.70\n",
            "Producto: Tomatoes, Cantidad: 1, Precio unitario: $26.03, Costo total: $26.03\n",
            "Producto: Plums, Cantidad: 2, Precio unitario: $19.18, Costo total: $38.36\n",
            "Producto: Fresh blueberries, Cantidad: 3, Precio unitario: $21.01, Costo total: $63.03\n",
            "Producto: Green smoothie, Cantidad: 5, Precio unitario: $17.68, Costo total: $88.40\n",
            "Producto: Corn, Cantidad: 4, Precio unitario: $13.55, Costo total: $54.20\n",
            "Producto: Rustic breakfast, Cantidad: 200, Precio unitario: $21.32, Costo total: $4264.00\n",
            "Producto: Sandwich with salad, Cantidad: 23, Precio unitario: $22.48, Costo total: $517.04\n",
            "Producto: Raw legums, Cantidad: 11, Precio unitario: $17.11, Costo total: $188.21\n",
            "Producto: Fresh stawberry, Cantidad: 221, Precio unitario: $28.59, Costo total: $6318.39\n",
            "Producto: Raw legums, Cantidad: 2, Precio unitario: $17.11, Costo total: $34.22\n",
            "Producto: Green smoothie, Cantidad: 400, Precio unitario: $17.68, Costo total: $7072.00\n",
            "Producto: Cuban sandwiche, Cantidad: 2, Precio unitario: $18.50, Costo total: $37.00\n",
            "Producto: Hazelnut in black ceramic bowl, Cantidad: 2, Precio unitario: $27.35, Costo total: $54.70\n",
            "Producto: Tomatoes, Cantidad: 1, Precio unitario: $26.03, Costo total: $26.03\n",
            "Producto: Plums, Cantidad: 250, Precio unitario: $19.18, Costo total: $4795.00\n",
            "Producto: Fresh blueberries, Cantidad: 334, Precio unitario: $21.01, Costo total: $7017.34\n",
            "Producto: Green smoothie, Cantidad: 300, Precio unitario: $17.68, Costo total: $5304.00\n",
            "Producto: Corn, Cantidad: 68, Precio unitario: $13.55, Costo total: $921.40\n",
            "Producto: French fries, Cantidad: 33, Precio unitario: $18.32, Costo total: $604.56\n",
            "Producto: Ground beef meat burger, Cantidad: 78, Precio unitario: $11.73, Costo total: $914.94\n",
            "Producto: Hazelnut in black ceramic bowl, Cantidad: 2, Precio unitario: $27.35, Costo total: $54.70\n",
            "Producto: Sweet fresh stawberry, Cantidad: 87, Precio unitario: $29.45, Costo total: $2562.15\n",
            "Producto: Homemade bread, Cantidad: 1, Precio unitario: $17.48, Costo total: $17.48\n",
            "Producto: Smoothie with chia seeds, Cantidad: 46, Precio unitario: $25.26, Costo total: $1161.96\n",
            "Producto: Corn, Cantidad: 1, Precio unitario: $13.55, Costo total: $13.55\n",
            "Producto: Plums, Cantidad: 2, Precio unitario: $19.18, Costo total: $38.36\n",
            "Producto: Green smoothie, Cantidad: 1, Precio unitario: $17.68, Costo total: $17.68\n",
            "Producto: Corn, Cantidad: 2, Precio unitario: $13.55, Costo total: $27.10\n",
            "Producto: French fries, Cantidad: 4, Precio unitario: $18.32, Costo total: $73.28\n",
            "Producto: Ground beef meat burger, Cantidad: 64, Precio unitario: $11.73, Costo total: $750.72\n",
            "Producto: Hazelnut in black ceramic bowl, Cantidad: 2, Precio unitario: $27.35, Costo total: $54.70\n",
            "Producto: Sweet fresh stawberry, Cantidad: 3, Precio unitario: $29.45, Costo total: $88.35\n",
            "Producto: Homemade bread, Cantidad: 456, Precio unitario: $17.48, Costo total: $7970.88\n",
            "Producto: Smoothie with chia seeds, Cantidad: 2, Precio unitario: $25.26, Costo total: $50.52\n",
            "Producto: Corn, Cantidad: 5, Precio unitario: $13.55, Costo total: $67.75\n",
            "Producto: Plums, Cantidad: 645, Precio unitario: $19.18, Costo total: $12371.10\n",
            "Producto: Green smoothie, Cantidad: 2, Precio unitario: $17.68, Costo total: $35.36\n",
            "Producto: Corn, Cantidad: 465, Precio unitario: $13.55, Costo total: $6300.75\n",
            "Producto: Ground beef meat burger, Cantidad: 4, Precio unitario: $11.73, Costo total: $46.92\n",
            "Producto: Hazelnut in black ceramic bowl, Cantidad: 1, Precio unitario: $27.35, Costo total: $27.35\n",
            "Producto: Sweet fresh stawberry, Cantidad: 131, Precio unitario: $29.45, Costo total: $3857.95\n",
            "Producto: Homemade bread, Cantidad: 9, Precio unitario: $17.48, Costo total: $157.32\n",
            "Producto: Smoothie with chia seeds, Cantidad: 13, Precio unitario: $25.26, Costo total: $328.38\n",
            "Producto: Corn, Cantidad: 678, Precio unitario: $13.55, Costo total: $9186.90\n",
            "Producto: Plums, Cantidad: 334, Precio unitario: $19.18, Costo total: $6406.12\n",
            "Producto: Fresh blueberries, Cantidad: 3445, Precio unitario: $21.01, Costo total: $72379.45\n",
            "Producto: Corn, Cantidad: 445, Precio unitario: $13.55, Costo total: $6029.75\n",
            "Producto: Rustic breakfast, Cantidad: 200, Precio unitario: $21.32, Costo total: $4264.00\n",
            "Producto: Sandwich with salad, Cantidad: 23, Precio unitario: $22.48, Costo total: $517.04\n",
            "Producto: Raw legums, Cantidad: 11, Precio unitario: $17.11, Costo total: $188.21\n",
            "Producto: Fresh stawberry, Cantidad: 221, Precio unitario: $28.59, Costo total: $6318.39\n",
            "Producto: Raw legums, Cantidad: 2, Precio unitario: $17.11, Costo total: $34.22\n",
            "Producto: Green smoothie, Cantidad: 400, Precio unitario: $17.68, Costo total: $7072.00\n",
            "Producto: Cuban sandwiche, Cantidad: 2, Precio unitario: $18.50, Costo total: $37.00\n",
            "Producto: Hazelnut in black ceramic bowl, Cantidad: 2, Precio unitario: $27.35, Costo total: $54.70\n",
            "Producto: Tomatoes, Cantidad: 1, Precio unitario: $26.03, Costo total: $26.03\n",
            "Producto: Plums, Cantidad: 250, Precio unitario: $19.18, Costo total: $4795.00\n",
            "Producto: Fresh blueberries, Cantidad: 334, Precio unitario: $21.01, Costo total: $7017.34\n",
            "Producto: Green smoothie, Cantidad: 300, Precio unitario: $17.68, Costo total: $5304.00\n",
            "Producto: Corn, Cantidad: 68, Precio unitario: $13.55, Costo total: $921.40\n",
            "Producto: French fries, Cantidad: 33, Precio unitario: $18.32, Costo total: $604.56\n",
            "Producto: Ground beef meat burger, Cantidad: 78, Precio unitario: $11.73, Costo total: $914.94\n",
            "Producto: Hazelnut in black ceramic bowl, Cantidad: 2, Precio unitario: $27.35, Costo total: $54.70\n",
            "Producto: Sweet fresh stawberry, Cantidad: 87, Precio unitario: $29.45, Costo total: $2562.15\n",
            "Producto: Homemade bread, Cantidad: 1, Precio unitario: $17.48, Costo total: $17.48\n",
            "Producto: Smoothie with chia seeds, Cantidad: 46, Precio unitario: $25.26, Costo total: $1161.96\n",
            "Producto: Corn, Cantidad: 1, Precio unitario: $13.55, Costo total: $13.55\n",
            "Producto: Plums, Cantidad: 2, Precio unitario: $19.18, Costo total: $38.36\n",
            "Producto: Fresh blueberries, Cantidad: 46, Precio unitario: $21.01, Costo total: $966.46\n",
            "Producto: Green smoothie, Cantidad: 1, Precio unitario: $17.68, Costo total: $17.68\n",
            "Producto: Corn, Cantidad: 2, Precio unitario: $13.55, Costo total: $27.10\n",
            "Producto: French fries, Cantidad: 4, Precio unitario: $18.32, Costo total: $73.28\n",
            "Producto: Ground beef meat burger, Cantidad: 64, Precio unitario: $11.73, Costo total: $750.72\n",
            "Producto: Hazelnut in black ceramic bowl, Cantidad: 2, Precio unitario: $27.35, Costo total: $54.70\n",
            "Producto: Sweet fresh stawberry, Cantidad: 3, Precio unitario: $29.45, Costo total: $88.35\n",
            "Producto: Homemade bread, Cantidad: 456, Precio unitario: $17.48, Costo total: $7970.88\n",
            "Producto: Smoothie with chia seeds, Cantidad: 2, Precio unitario: $25.26, Costo total: $50.52\n",
            "Producto: Corn, Cantidad: 5, Precio unitario: $13.55, Costo total: $67.75\n",
            "Producto: Plums, Cantidad: 645, Precio unitario: $19.18, Costo total: $12371.10\n",
            "Producto: Green smoothie, Cantidad: 2, Precio unitario: $17.68, Costo total: $35.36\n",
            "Producto: Corn, Cantidad: 465, Precio unitario: $13.55, Costo total: $6300.75\n",
            "Producto: French fries, Cantidad: 20, Precio unitario: $18.32, Costo total: $366.40\n",
            "Producto: Ground beef meat burger, Cantidad: 4, Precio unitario: $11.73, Costo total: $46.92\n",
            "Producto: Hazelnut in black ceramic bowl, Cantidad: 1, Precio unitario: $27.35, Costo total: $27.35\n",
            "Producto: Sweet fresh stawberry, Cantidad: 131, Precio unitario: $29.45, Costo total: $3857.95\n",
            "Producto: Homemade bread, Cantidad: 9, Precio unitario: $17.48, Costo total: $157.32\n",
            "Producto: Smoothie with chia seeds, Cantidad: 13, Precio unitario: $25.26, Costo total: $328.38\n",
            "Producto: Corn, Cantidad: 678, Precio unitario: $13.55, Costo total: $9186.90\n",
            "Producto: Plums, Cantidad: 334, Precio unitario: $19.18, Costo total: $6406.12\n",
            "Producto: Fresh blueberries, Cantidad: 3445, Precio unitario: $21.01, Costo total: $72379.45\n",
            "Producto: Corn, Cantidad: 445, Precio unitario: $13.55, Costo total: $6029.75\n",
            "\n",
            "Tiempo de ejecución: 0.0110 segundos\n",
            "\n",
            "Errores encontrados:\n",
            "Producto no encontrado en catálogo: Elotes\n",
            "Cantidad inválida para producto Fresh blueberries: -35\n",
            "Producto no encontrado en catálogo: Frijoles\n",
            "Cantidad inválida para producto Green smoothie: -123\n",
            "Cantidad inválida para producto Fresh blueberries: -35\n",
            "Cantidad inválida para producto Green smoothie: -123\n",
            "\n"
          ]
        }
      ]
    }
  ]
}